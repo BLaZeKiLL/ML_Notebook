{
 "cells": [
  {
   "cell_type": "code",
   "execution_count": 1,
   "metadata": {},
   "outputs": [],
   "source": [
    "import tensorflow as tf"
   ]
  },
  {
   "cell_type": "code",
   "execution_count": 4,
   "metadata": {},
   "outputs": [],
   "source": [
    "a = tf.constant([1, 2, 3])\n",
    "b = tf.constant([1, 2, 3])\n",
    "\n",
    "c = a + b"
   ]
  },
  {
   "cell_type": "code",
   "execution_count": 5,
   "metadata": {},
   "outputs": [
    {
     "name": "stdout",
     "output_type": "stream",
     "text": [
      "[2 4 6]\n"
     ]
    }
   ],
   "source": [
    "with tf.Session() as session:\n",
    "    print(c.eval())"
   ]
  },
  {
   "cell_type": "code",
   "execution_count": 6,
   "metadata": {},
   "outputs": [
    {
     "name": "stdout",
     "output_type": "stream",
     "text": [
      "[name: \"/device:CPU:0\"\n",
      "device_type: \"CPU\"\n",
      "memory_limit: 268435456\n",
      "locality {\n",
      "}\n",
      "incarnation: 14616975514637075866\n",
      ", name: \"/device:GPU:0\"\n",
      "device_type: \"GPU\"\n",
      "memory_limit: 6690037432\n",
      "locality {\n",
      "  bus_id: 1\n",
      "  links {\n",
      "  }\n",
      "}\n",
      "incarnation: 16514736616002063321\n",
      "physical_device_desc: \"device: 0, name: GeForce GTX 1070, pci bus id: 0000:01:00.0, compute capability: 6.1\"\n",
      "]\n"
     ]
    }
   ],
   "source": [
    "from tensorflow.python.client import device_lib\n",
    "print(device_lib.list_local_devices())"
   ]
  },
  {
   "cell_type": "markdown",
   "metadata": {},
   "source": [
    "## Heron's Formula in TensorFlow"
   ]
  },
  {
   "cell_type": "code",
   "execution_count": 7,
   "metadata": {},
   "outputs": [
    {
     "name": "stdout",
     "output_type": "stream",
     "text": [
      "[6.278497 4.709139]\n"
     ]
    }
   ],
   "source": [
    "def compute_area(sides):\n",
    "    a = sides[:,0]\n",
    "    b = sides[:,1]\n",
    "    c = sides[:,2]\n",
    "    \n",
    "    s = (a + b + c) * 0.5\n",
    "    areasq = s * (s - a) * (s - b) * (s - c)\n",
    "    return tf.sqrt(areasq)\n",
    "\n",
    "with tf.Session() as session:\n",
    "    area = compute_area(tf.constant([\n",
    "        [5.0, 3.0, 7.1],\n",
    "        [2.3, 4.1, 4.8]\n",
    "    ]))\n",
    "    print(session.run(area))"
   ]
  },
  {
   "cell_type": "markdown",
   "metadata": {},
   "source": [
    "## Halley's Method"
   ]
  },
  {
   "cell_type": "code",
   "execution_count": 2,
   "metadata": {},
   "outputs": [],
   "source": [
    "def get_constants(constants):\n",
    "    return constants[0], constants[1], constants[2], constants[3], constants[4]"
   ]
  },
  {
   "cell_type": "code",
   "execution_count": 3,
   "metadata": {},
   "outputs": [],
   "source": [
    "def fx(constants, x):\n",
    "    a0, a1, a2, a3, a4 = get_constants(constants)\n",
    "    return a0 + (a1 * x) + (a2 * tf.pow(x, 2)) + (a3 * tf.pow(x, 3)) + (a4 * tf.pow(x, 4))"
   ]
  },
  {
   "cell_type": "code",
   "execution_count": 4,
   "metadata": {},
   "outputs": [],
   "source": [
    "def f1x(constants, x):\n",
    "    a0, a1, a2, a3, a4 = get_constants(constants)\n",
    "    return a1 + (2 * a2 * x) + (3 * a3 * tf.pow(x, 2)) + (4 * a4 * tf.pow(x, 3))"
   ]
  },
  {
   "cell_type": "code",
   "execution_count": 5,
   "metadata": {},
   "outputs": [],
   "source": [
    "def f2x(constants, x):\n",
    "    a0, a1, a2, a3, a4 = get_constants(constants)\n",
    "    return (2 * a2) + (6 * a3 * x) + (12 * a4 * tf.pow(x, 2))"
   ]
  },
  {
   "cell_type": "code",
   "execution_count": 6,
   "metadata": {},
   "outputs": [],
   "source": [
    "def halley_iter(x, _fx, _f1x, _f2x):\n",
    "    return x - ((2 * _fx * _f1x) / ((2 * tf.pow(_f1x, 2)) - (_fx * _f2x)))"
   ]
  },
  {
   "cell_type": "code",
   "execution_count": 44,
   "metadata": {},
   "outputs": [],
   "source": [
    "def body(nx, ox, constants, epi):\n",
    "    ox = nx\n",
    "    nx = halley_iter(ox, fx(constants, ox), f1x(constants, ox), f2x(constants, ox))\n",
    "    return [nx, ox, constants, epi]\n",
    "\n",
    "def condition(nx, ox, constants, epi):\n",
    "    return tf.greater_equal(tf.reshape(tf.abs(nx - ox), []), epi)\n",
    "\n",
    "def halley(constants, x, epi):\n",
    "    with tf.variable_scope('model', reuse=tf.AUTO_REUSE):\n",
    "        ox = tf.get_variable(name='old-x', initializer=tf.constant_initializer(0.0), trainable=True)\n",
    "        nx = tf.get_variable(name='new-x', initializer=tf.constant_initializer(x), trainable=True)\n",
    "    a, b, c, d = tf.while_loop(condition, body, [nx, ox, constants, epi])\n",
    "    print('x = {}'.format(a.eval()))\n",
    "    print('f(x) = {}'.format(fx(constants, a).eval()))\n",
    "    "
   ]
  },
  {
   "cell_type": "code",
   "execution_count": 45,
   "metadata": {},
   "outputs": [
    {
     "name": "stdout",
     "output_type": "stream",
     "text": [
      "x = [[-0.4358876]]\n",
      "f(x) = [[0.54744387]]\n"
     ]
    }
   ],
   "source": [
    "with tf.Session() as session:\n",
    "    x = 1.0\n",
    "    constants = tf.constant([1.0, 2.0, 3.0, 4.0, 5.0])\n",
    "    epi = tf.constant(0.001)\n",
    "    tf.global_variables_initializer().run()\n",
    "    halley(constants, x, epi)"
   ]
  },
  {
   "cell_type": "code",
   "execution_count": null,
   "metadata": {},
   "outputs": [],
   "source": []
  }
 ],
 "metadata": {
  "kernelspec": {
   "display_name": "Python 3",
   "language": "python",
   "name": "python3"
  },
  "language_info": {
   "codemirror_mode": {
    "name": "ipython",
    "version": 3
   },
   "file_extension": ".py",
   "mimetype": "text/x-python",
   "name": "python",
   "nbconvert_exporter": "python",
   "pygments_lexer": "ipython3",
   "version": "3.6.8"
  }
 },
 "nbformat": 4,
 "nbformat_minor": 2
}
